{
  "cells": [
    {
      "metadata": {},
      "cell_type": "markdown",
      "source": "DISCIPLINA: Gestão do Conhecimento\t PROFESSOR(A): Alex Salgado\nPERÍODO: 7o. TURNO: noite AVALIAÇÃO:\n\nALUNO(A): Bruno da Rocha Peixoto\n\nGRAU: VISTO DO PROFESSOR:\n"
    },
    {
      "metadata": {},
      "cell_type": "markdown",
      "source": "# Questão 1 - valor (1,0)\n"
    },
    {
      "metadata": {},
      "cell_type": "markdown",
      "source": "*** Crie um repositório no Github e adicione este arquivo no mesmo\n\n\n1.1 - Você deve escolher uma base de dados aberta que seja possível treinar um modelo de aprendizagem de máquina Supervisionado de Classificação (assim como o exemplo da Iris e Cancer). A partir desta base de dados, você vai treinar o modelo, fazer previsões e calcular a acurácia do mesmo.\nObs.: Não utilizar nenhuma base de dados usada em aula ou nos trabalhos.\nAs bases de dados não poderá ser igual a do seu colega, dessa forma, preencha a planilha abaixo dizendo a sua base e seu tema. \nhttps://forms.gle/CvmN5fr4u2g5zoZRA\n\n\n** Para saber se já escolheram o mesmo que você, consulte no link abaixo.\nhttps://docs.google.com/spreadsheets/d/1E_GuH7C8vn_o-gyOeN5LavoQlByjVQb1UiVfP71OX3g/edit?usp=sharing\n"
    },
    {
      "metadata": {
        "trusted": false
      },
      "cell_type": "code",
      "source": "https://www.kaggle.com/inIT-OWL/versatileproductionsystem",
      "execution_count": null,
      "outputs": []
    },
    {
      "metadata": {},
      "cell_type": "markdown",
      "source": "1.2 - Após tratada, criar uma pasta no seu GoogleDrive e disponibilizar o link do arquivo de sua base (csv, xlsx, etc) para ser importado no seu código."
    },
    {
      "metadata": {
        "trusted": false
      },
      "cell_type": "code",
      "source": "https://drive.google.com/open?id=1P7f4hjQ_rewTl5TI-8CLMBJBXxqT3_FX",
      "execution_count": null,
      "outputs": []
    },
    {
      "metadata": {},
      "cell_type": "markdown",
      "source": "## Criar um código usando o Jupyter Notebook e responder (através de código) às seguintes questões:\n"
    },
    {
      "metadata": {},
      "cell_type": "markdown",
      "source": "# Questão 2 - valor (1,0)"
    },
    {
      "metadata": {},
      "cell_type": "markdown",
      "source": "2.1 - Importar os modulos python para machine learn e carregar o arquivo \n\n** Sugestão se for do tipo xlsx, usar o read_excel do pandas\nimport pandas as pd\ndt = pd.read_excel(\"meuarquivo.xlsx\")\n"
    },
    {
      "metadata": {
        "trusted": true
      },
      "cell_type": "code",
      "source": "import pandas as pd\nimport numpy as np\n\n\ndf = pd.read_excel('~/Dosingmodule.xlsx')",
      "execution_count": 25,
      "outputs": []
    },
    {
      "metadata": {},
      "cell_type": "markdown",
      "source": "2.2 - Exibir os primeiros registros desta tabela.\n"
    },
    {
      "metadata": {
        "trusted": true
      },
      "cell_type": "code",
      "source": "df.head(10)",
      "execution_count": 26,
      "outputs": [
        {
          "output_type": "execute_result",
          "execution_count": 26,
          "data": {
            "text/plain": "       Timestamp  Auger.O_xOn  Aspirator.O_xOn  WeightSensor.I_uiValue\n0  1515157696180            0                0                   18691\n1  1515157696281            0                0                   18692\n2  1515157696381            0                0                   18694\n3  1515157696481            0                0                   18692\n4  1515157696581            0                0                   18692\n5  1515157696681            0                0                   18692\n6  1515157696781            0                0                   18694\n7  1515157696881            0                0                   18692\n8  1515157696982            0                0                   18692\n9  1515157697082            0                0                   18692",
            "text/html": "<div>\n<table border=\"1\" class=\"dataframe\">\n  <thead>\n    <tr style=\"text-align: right;\">\n      <th></th>\n      <th>Timestamp</th>\n      <th>Auger.O_xOn</th>\n      <th>Aspirator.O_xOn</th>\n      <th>WeightSensor.I_uiValue</th>\n    </tr>\n  </thead>\n  <tbody>\n    <tr>\n      <th>0</th>\n      <td>1515157696180</td>\n      <td>0</td>\n      <td>0</td>\n      <td>18691</td>\n    </tr>\n    <tr>\n      <th>1</th>\n      <td>1515157696281</td>\n      <td>0</td>\n      <td>0</td>\n      <td>18692</td>\n    </tr>\n    <tr>\n      <th>2</th>\n      <td>1515157696381</td>\n      <td>0</td>\n      <td>0</td>\n      <td>18694</td>\n    </tr>\n    <tr>\n      <th>3</th>\n      <td>1515157696481</td>\n      <td>0</td>\n      <td>0</td>\n      <td>18692</td>\n    </tr>\n    <tr>\n      <th>4</th>\n      <td>1515157696581</td>\n      <td>0</td>\n      <td>0</td>\n      <td>18692</td>\n    </tr>\n    <tr>\n      <th>5</th>\n      <td>1515157696681</td>\n      <td>0</td>\n      <td>0</td>\n      <td>18692</td>\n    </tr>\n    <tr>\n      <th>6</th>\n      <td>1515157696781</td>\n      <td>0</td>\n      <td>0</td>\n      <td>18694</td>\n    </tr>\n    <tr>\n      <th>7</th>\n      <td>1515157696881</td>\n      <td>0</td>\n      <td>0</td>\n      <td>18692</td>\n    </tr>\n    <tr>\n      <th>8</th>\n      <td>1515157696982</td>\n      <td>0</td>\n      <td>0</td>\n      <td>18692</td>\n    </tr>\n    <tr>\n      <th>9</th>\n      <td>1515157697082</td>\n      <td>0</td>\n      <td>0</td>\n      <td>18692</td>\n    </tr>\n  </tbody>\n</table>\n</div>"
          },
          "metadata": {}
        }
      ]
    },
    {
      "metadata": {},
      "cell_type": "markdown",
      "source": "2.3 - De que se trata esse banco de dados? e que tipo de previsão pode ser feito com ele?\n"
    },
    {
      "metadata": {
        "trusted": false
      },
      "cell_type": "code",
      "source": "#Aqui você pode ver os resultados dos dados obtidos do Sistema de Produção Versátil.\n#Ele é usado para uma ampla variedade de tarefas, incluindo aprendizado de modelos, detecção de anomalias e gerenciamento de alarmes.",
      "execution_count": null,
      "outputs": []
    },
    {
      "metadata": {},
      "cell_type": "markdown",
      "source": "# Questão 3 - valor (0,5)\n"
    },
    {
      "metadata": {},
      "cell_type": "markdown",
      "source": "Utilizando as terminologias de Machine Learning(features e observações):\n\n"
    },
    {
      "metadata": {},
      "cell_type": "markdown",
      "source": "3.1 - Quantas \"features\" têm nessa base de dados?"
    },
    {
      "metadata": {
        "trusted": true
      },
      "cell_type": "code",
      "source": "shape = df.shape\n\nprint('Features: {}'.format(shape[1] - 1))",
      "execution_count": 27,
      "outputs": [
        {
          "output_type": "stream",
          "text": "Features: 3\n",
          "name": "stdout"
        }
      ]
    },
    {
      "metadata": {},
      "cell_type": "markdown",
      "source": "3.2 - Quantas observações têm nessa base de dados?\n"
    },
    {
      "metadata": {
        "trusted": true
      },
      "cell_type": "code",
      "source": "print('Observações: {}'.format(shape[0]))",
      "execution_count": 28,
      "outputs": [
        {
          "output_type": "stream",
          "text": "Observações: 11985\n",
          "name": "stdout"
        }
      ]
    },
    {
      "metadata": {},
      "cell_type": "markdown",
      "source": "# Questão 4 - valor (1,5)\n"
    },
    {
      "metadata": {},
      "cell_type": "markdown",
      "source": "4.1 - Faça uma previsão, usando o algoritmo de LogisticRegression.\n"
    },
    {
      "metadata": {
        "trusted": true,
        "scrolled": true
      },
      "cell_type": "code",
      "source": "x_vars = df.columns[0:len(df.columns)-1]\nx_vars\n\ny_vars = df.columns[-1]\ny_vars\n\n\nfrom sklearn.linear_model import LogisticRegression as lr\nlogreg = lr()\n\nx = df[x_vars]\ny = df[y_vars]\n\n\nlogreg.fit(x,y)\nlogreg.predict(x)\ny_pred = logreg.predict(x)\nlen(y_pred)\nfrom sklearn import metrics\nmetrics.accuracy_score(y,y_pred)",
      "execution_count": 31,
      "outputs": [
        {
          "output_type": "execute_result",
          "execution_count": 31,
          "data": {
            "text/plain": "0.05815602836879433"
          },
          "metadata": {}
        }
      ]
    },
    {
      "metadata": {},
      "cell_type": "markdown",
      "source": "# Questão 5 - valor (2,0)\n"
    },
    {
      "metadata": {},
      "cell_type": "markdown",
      "source": "Usando o método de avaliação de acurácia (Treinar e testar na base de dados inteira/Train test entire model), Calcular a acurácia de cada um dos 3 métodos abaixo."
    },
    {
      "metadata": {},
      "cell_type": "markdown",
      "source": "4.1 - Acurácia usando o algoritmo de KNN (com 1 vizinho, k=1)\n"
    },
    {
      "metadata": {
        "trusted": true
      },
      "cell_type": "code",
      "source": "from sklearn.neighbors import KNeighborsClassifier as knc\nknn = knc(n_neighbors=1)\nknn.fit(x,y)\ny_pred = knn.predict(x)\nprint(metrics.accuracy_score(y,y_pred))\n\nfrom sklearn.model_selection import train_test_split as ts\nx_train, x_test, y_train, y_test = ts(x, y, test_size=0.4, random_state=4)\nknn = knc(n_neighbors=1)\nknn.fit(x_train, y_train)\ny_pred = knn.predict(x_test)\nprint(metrics.accuracy_score(y_test, y_pred))",
      "execution_count": 32,
      "outputs": [
        {
          "output_type": "stream",
          "text": "1.0\n0.4244889445139758\n",
          "name": "stdout"
        }
      ]
    },
    {
      "metadata": {},
      "cell_type": "markdown",
      "source": "4.2 - Acurácia usando o algoritmo de KNN (com 5 vizinho, k=5)\n"
    },
    {
      "metadata": {
        "trusted": true
      },
      "cell_type": "code",
      "source": "knn = knc(n_neighbors=5)\nknn.fit(x,y)\ny_pred = knn.predict(x)\nprint(metrics.accuracy_score(y,y_pred))\n\nknn = knc(n_neighbors=5)\nknn.fit(x_train, y_train)\ny_pred = knn.predict(x_test)\nprint(metrics.accuracy_score(y_test, y_pred))",
      "execution_count": 33,
      "outputs": [
        {
          "output_type": "stream",
          "text": "0.6398831873174802\n0.4718397997496871\n",
          "name": "stdout"
        }
      ]
    },
    {
      "metadata": {},
      "cell_type": "markdown",
      "source": "4.3 - Acurácia usando o algoritmo de LogisticRegression\n"
    },
    {
      "metadata": {
        "trusted": true
      },
      "cell_type": "code",
      "source": "logreg = lr()\nlogreg.fit(x_train, y_train)\ny_pred = logreg.predict(x_test)\nprint(metrics.accuracy_score(y_test, y_pred))",
      "execution_count": 34,
      "outputs": [
        {
          "output_type": "stream",
          "text": "0.05423445974134335\n",
          "name": "stdout"
        }
      ]
    },
    {
      "metadata": {},
      "cell_type": "markdown",
      "source": "4.4 - De acordo com seus resultados anteriores, qual dos 3 métodos é mais eficiente?\n"
    },
    {
      "metadata": {
        "trusted": false
      },
      "cell_type": "code",
      "source": "#O segundo método pois se aproxima mais de 1",
      "execution_count": null,
      "outputs": []
    },
    {
      "metadata": {
        "trusted": false
      },
      "cell_type": "code",
      "source": "*** Envie o link do seu Github com essa resposta no Classroom\n",
      "execution_count": null,
      "outputs": []
    }
  ],
  "metadata": {
    "kernelspec": {
      "name": "python3",
      "display_name": "Python 3",
      "language": "python"
    },
    "language_info": {
      "mimetype": "text/x-python",
      "nbconvert_exporter": "python",
      "name": "python",
      "pygments_lexer": "ipython3",
      "version": "3.5.4",
      "file_extension": ".py",
      "codemirror_mode": {
        "version": 3,
        "name": "ipython"
      }
    }
  },
  "nbformat": 4,
  "nbformat_minor": 2
}